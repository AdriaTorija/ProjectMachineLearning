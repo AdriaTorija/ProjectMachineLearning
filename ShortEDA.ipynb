{
 "cells": [
  {
   "cell_type": "markdown",
   "id": "f03ef12a-52b3-4774-a05f-0a03b6d6950e",
   "metadata": {},
   "source": [
    "### Names\n",
    "\n",
    "    -Adria Torija Ruiz\n",
    "\n",
    "    -Corentin Lamboley\n",
    "\n",
    "    -Jonathan Hailemariam\n",
    "\n",
    "### Student ids: \n",
    "\n",
    "    -567212\n",
    "\n",
    "    -566747\n",
    "\n",
    "    -507244\n",
    "\n",
    "### Kaggle competition name:\n",
    "\n",
    "    -AdriaTorijaR\n",
    "\n",
    "    -Corentin Lamboley\n",
    "\n",
    "    -JonathanSHailemariam\n",
    "\n",
    "### Kaggle team name:\n",
    "\n",
    "    -Team 83"
   ]
  },
  {
   "cell_type": "markdown",
   "id": "8d59e252-85bd-4e18-a141-5bf5479e04e3",
   "metadata": {},
   "source": [
    "# Moscow Housing Prediction Notebook\n",
    "### Short EDA"
   ]
  },
  {
   "cell_type": "markdown",
   "id": "c5be9101",
   "metadata": {},
   "source": [
    "## Import libraries"
   ]
  },
  {
   "cell_type": "code",
   "execution_count": 41,
   "id": "3d7cf484",
   "metadata": {},
   "outputs": [],
   "source": [
    "import json\n",
    "import pandas as pd \n",
    "import numpy as np \n",
    "import matplotlib.pyplot as plt \n",
    "import seaborn as sns\n",
    "from scipy import stats\n",
    "\n",
    "np.random.seed(123)\n",
    "sns.set_style('darkgrid')\n",
    "pd.set_option('display.max_colwidth', None)\n",
    "\n",
    "\n",
    "#RandomForest Imports\n",
    "from sklearn.ensemble import RandomForestRegressor\n",
    "from sklearn.ensemble import RandomForestClassifier\n",
    "from sklearn.ensemble import GradientBoostingRegressor\n",
    "from lightgbm import LGBMRegressor\n",
    "from sklearn import linear_model\n",
    "from sklearn.model_selection import GridSearchCV\n",
    "from catboost import CatBoostRegressor, Pool, cv\n",
    "\n",
    "from sklearn.feature_selection import RFECV\n",
    "from sklearn import model_selection\n",
    "from timeit import default_timer as timer\n",
    "import xgboost as xgb\n",
    "\n",
    "from mlxtend.regressor import StackingCVRegressor\n",
    "\n",
    "rfrmodel = RandomForestRegressor()\n",
    "rfcmodel = RandomForestClassifier()"
   ]
  },
  {
   "cell_type": "code",
   "execution_count": 42,
   "id": "88852753-1f51-4e9d-9991-295098937d45",
   "metadata": {},
   "outputs": [],
   "source": [
    "def RMSLE(y_true, y_pred):\n",
    "    # Alternatively: sklearn.metrics.mean_squared_log_error(y_true, y_pred) ** 0.5\n",
    "    assert (y_true >= 0).all() \n",
    "    assert (y_pred >= 0).all()\n",
    "    log_error = np.log1p(y_pred) - np.log1p(y_true)  # Note: log1p(x) = log(1 + x)\n",
    "    return np.mean(log_error ** 2) ** 0.5"
   ]
  },
  {
   "cell_type": "markdown",
   "id": "11bec5f5",
   "metadata": {},
   "source": [
    "# DataSets\n",
    "## Loading Datasets"
   ]
  },
  {
   "cell_type": "markdown",
   "id": "fd3158bd-1f5a-4e46-9457-343cbb08ab91",
   "metadata": {},
   "source": [
    "Train-Test Split : \n",
    "\n",
    "We already have a train/test split that will be used to evaluate your submission. Concretely, you are given:\n",
    "\n",
    "~23k training samples with price data that you can use to select and fit models\n",
    "~10k testing samples without price data that we will use to evaluate your models\n",
    "\n",
    "The split have been desiged so that you can expect roughly the same distribution of data during evaluation. Specifically, we have made sure to stratify it with respect to the price range and location of apartments."
   ]
  },
  {
   "cell_type": "code",
   "execution_count": 43,
   "id": "f343de89",
   "metadata": {},
   "outputs": [
    {
     "data": {
      "text/html": [
       "<div>\n",
       "<style scoped>\n",
       "    .dataframe tbody tr th:only-of-type {\n",
       "        vertical-align: middle;\n",
       "    }\n",
       "\n",
       "    .dataframe tbody tr th {\n",
       "        vertical-align: top;\n",
       "    }\n",
       "\n",
       "    .dataframe thead th {\n",
       "        text-align: right;\n",
       "    }\n",
       "</style>\n",
       "<table border=\"1\" class=\"dataframe\">\n",
       "  <thead>\n",
       "    <tr style=\"text-align: right;\">\n",
       "      <th></th>\n",
       "      <th>id</th>\n",
       "      <th>seller</th>\n",
       "      <th>price</th>\n",
       "      <th>area_total</th>\n",
       "      <th>area_kitchen</th>\n",
       "      <th>area_living</th>\n",
       "      <th>floor</th>\n",
       "      <th>rooms</th>\n",
       "      <th>layout</th>\n",
       "      <th>ceiling</th>\n",
       "      <th>...</th>\n",
       "      <th>address</th>\n",
       "      <th>constructed</th>\n",
       "      <th>material</th>\n",
       "      <th>stories</th>\n",
       "      <th>elevator_without</th>\n",
       "      <th>elevator_passenger</th>\n",
       "      <th>elevator_service</th>\n",
       "      <th>parking</th>\n",
       "      <th>garbage_chute</th>\n",
       "      <th>heating</th>\n",
       "    </tr>\n",
       "  </thead>\n",
       "  <tbody>\n",
       "    <tr>\n",
       "      <th>0</th>\n",
       "      <td>0</td>\n",
       "      <td>3.0</td>\n",
       "      <td>7139520.0</td>\n",
       "      <td>59.2</td>\n",
       "      <td>12.5</td>\n",
       "      <td>31.0</td>\n",
       "      <td>2.0</td>\n",
       "      <td>2.0</td>\n",
       "      <td>NaN</td>\n",
       "      <td>2.65</td>\n",
       "      <td>...</td>\n",
       "      <td>к2.5/2</td>\n",
       "      <td>2021.0</td>\n",
       "      <td>3.0</td>\n",
       "      <td>9.0</td>\n",
       "      <td>0.0</td>\n",
       "      <td>1.0</td>\n",
       "      <td>1.0</td>\n",
       "      <td>1.0</td>\n",
       "      <td>NaN</td>\n",
       "      <td>NaN</td>\n",
       "    </tr>\n",
       "    <tr>\n",
       "      <th>1</th>\n",
       "      <td>1</td>\n",
       "      <td>NaN</td>\n",
       "      <td>10500000.0</td>\n",
       "      <td>88.0</td>\n",
       "      <td>14.2</td>\n",
       "      <td>48.0</td>\n",
       "      <td>18.0</td>\n",
       "      <td>3.0</td>\n",
       "      <td>1.0</td>\n",
       "      <td>NaN</td>\n",
       "      <td>...</td>\n",
       "      <td>14к3</td>\n",
       "      <td>2010.0</td>\n",
       "      <td>3.0</td>\n",
       "      <td>25.0</td>\n",
       "      <td>0.0</td>\n",
       "      <td>1.0</td>\n",
       "      <td>1.0</td>\n",
       "      <td>1.0</td>\n",
       "      <td>NaN</td>\n",
       "      <td>0.0</td>\n",
       "    </tr>\n",
       "    <tr>\n",
       "      <th>2</th>\n",
       "      <td>2</td>\n",
       "      <td>3.0</td>\n",
       "      <td>9019650.0</td>\n",
       "      <td>78.5</td>\n",
       "      <td>22.5</td>\n",
       "      <td>40.8</td>\n",
       "      <td>12.0</td>\n",
       "      <td>3.0</td>\n",
       "      <td>NaN</td>\n",
       "      <td>2.65</td>\n",
       "      <td>...</td>\n",
       "      <td>38</td>\n",
       "      <td>2021.0</td>\n",
       "      <td>3.0</td>\n",
       "      <td>15.0</td>\n",
       "      <td>0.0</td>\n",
       "      <td>1.0</td>\n",
       "      <td>1.0</td>\n",
       "      <td>1.0</td>\n",
       "      <td>NaN</td>\n",
       "      <td>NaN</td>\n",
       "    </tr>\n",
       "    <tr>\n",
       "      <th>3</th>\n",
       "      <td>3</td>\n",
       "      <td>NaN</td>\n",
       "      <td>10500000.0</td>\n",
       "      <td>88.0</td>\n",
       "      <td>14.0</td>\n",
       "      <td>48.0</td>\n",
       "      <td>18.0</td>\n",
       "      <td>3.0</td>\n",
       "      <td>NaN</td>\n",
       "      <td>NaN</td>\n",
       "      <td>...</td>\n",
       "      <td>14к3</td>\n",
       "      <td>2010.0</td>\n",
       "      <td>3.0</td>\n",
       "      <td>25.0</td>\n",
       "      <td>0.0</td>\n",
       "      <td>1.0</td>\n",
       "      <td>1.0</td>\n",
       "      <td>1.0</td>\n",
       "      <td>NaN</td>\n",
       "      <td>0.0</td>\n",
       "    </tr>\n",
       "    <tr>\n",
       "      <th>4</th>\n",
       "      <td>4</td>\n",
       "      <td>NaN</td>\n",
       "      <td>13900000.0</td>\n",
       "      <td>78.0</td>\n",
       "      <td>17.0</td>\n",
       "      <td>35.0</td>\n",
       "      <td>7.0</td>\n",
       "      <td>2.0</td>\n",
       "      <td>1.0</td>\n",
       "      <td>2.90</td>\n",
       "      <td>...</td>\n",
       "      <td>1к3</td>\n",
       "      <td>2017.0</td>\n",
       "      <td>2.0</td>\n",
       "      <td>15.0</td>\n",
       "      <td>0.0</td>\n",
       "      <td>1.0</td>\n",
       "      <td>1.0</td>\n",
       "      <td>1.0</td>\n",
       "      <td>0.0</td>\n",
       "      <td>0.0</td>\n",
       "    </tr>\n",
       "  </tbody>\n",
       "</table>\n",
       "<p>5 rows × 34 columns</p>\n",
       "</div>"
      ],
      "text/plain": [
       "   id  seller       price  area_total  area_kitchen  area_living  floor  \\\n",
       "0   0     3.0   7139520.0        59.2          12.5         31.0    2.0   \n",
       "1   1     NaN  10500000.0        88.0          14.2         48.0   18.0   \n",
       "2   2     3.0   9019650.0        78.5          22.5         40.8   12.0   \n",
       "3   3     NaN  10500000.0        88.0          14.0         48.0   18.0   \n",
       "4   4     NaN  13900000.0        78.0          17.0         35.0    7.0   \n",
       "\n",
       "   rooms  layout  ceiling  ...  address  constructed  material  stories  \\\n",
       "0    2.0     NaN     2.65  ...   к2.5/2       2021.0       3.0      9.0   \n",
       "1    3.0     1.0      NaN  ...     14к3       2010.0       3.0     25.0   \n",
       "2    3.0     NaN     2.65  ...       38       2021.0       3.0     15.0   \n",
       "3    3.0     NaN      NaN  ...     14к3       2010.0       3.0     25.0   \n",
       "4    2.0     1.0     2.90  ...      1к3       2017.0       2.0     15.0   \n",
       "\n",
       "   elevator_without  elevator_passenger  elevator_service  parking  \\\n",
       "0               0.0                 1.0               1.0      1.0   \n",
       "1               0.0                 1.0               1.0      1.0   \n",
       "2               0.0                 1.0               1.0      1.0   \n",
       "3               0.0                 1.0               1.0      1.0   \n",
       "4               0.0                 1.0               1.0      1.0   \n",
       "\n",
       "   garbage_chute  heating  \n",
       "0            NaN      NaN  \n",
       "1            NaN      0.0  \n",
       "2            NaN      NaN  \n",
       "3            NaN      0.0  \n",
       "4            0.0      0.0  \n",
       "\n",
       "[5 rows x 34 columns]"
      ]
     },
     "execution_count": 43,
     "metadata": {},
     "output_type": "execute_result"
    }
   ],
   "source": [
    "apartments = pd.read_csv('data/apartments_train.csv')\n",
    "buildings = pd.read_csv('data/buildings_train.csv')\n",
    "data_train = pd.merge(apartments, buildings.set_index('id'), how='left', left_on='building_id', right_index=True)\n",
    "data_train.head()"
   ]
  },
  {
   "cell_type": "code",
   "execution_count": 44,
   "id": "53e55545",
   "metadata": {},
   "outputs": [
    {
     "data": {
      "text/html": [
       "<div>\n",
       "<style scoped>\n",
       "    .dataframe tbody tr th:only-of-type {\n",
       "        vertical-align: middle;\n",
       "    }\n",
       "\n",
       "    .dataframe tbody tr th {\n",
       "        vertical-align: top;\n",
       "    }\n",
       "\n",
       "    .dataframe thead th {\n",
       "        text-align: right;\n",
       "    }\n",
       "</style>\n",
       "<table border=\"1\" class=\"dataframe\">\n",
       "  <thead>\n",
       "    <tr style=\"text-align: right;\">\n",
       "      <th></th>\n",
       "      <th>id</th>\n",
       "      <th>seller</th>\n",
       "      <th>area_total</th>\n",
       "      <th>area_kitchen</th>\n",
       "      <th>area_living</th>\n",
       "      <th>floor</th>\n",
       "      <th>rooms</th>\n",
       "      <th>layout</th>\n",
       "      <th>ceiling</th>\n",
       "      <th>bathrooms_shared</th>\n",
       "      <th>...</th>\n",
       "      <th>address</th>\n",
       "      <th>constructed</th>\n",
       "      <th>material</th>\n",
       "      <th>stories</th>\n",
       "      <th>elevator_without</th>\n",
       "      <th>elevator_passenger</th>\n",
       "      <th>elevator_service</th>\n",
       "      <th>parking</th>\n",
       "      <th>garbage_chute</th>\n",
       "      <th>heating</th>\n",
       "    </tr>\n",
       "  </thead>\n",
       "  <tbody>\n",
       "    <tr>\n",
       "      <th>0</th>\n",
       "      <td>23285</td>\n",
       "      <td>NaN</td>\n",
       "      <td>71.4</td>\n",
       "      <td>NaN</td>\n",
       "      <td>NaN</td>\n",
       "      <td>2.0</td>\n",
       "      <td>1.0</td>\n",
       "      <td>NaN</td>\n",
       "      <td>NaN</td>\n",
       "      <td>NaN</td>\n",
       "      <td>...</td>\n",
       "      <td>6к3</td>\n",
       "      <td>2017.0</td>\n",
       "      <td>2.0</td>\n",
       "      <td>20.0</td>\n",
       "      <td>1.0</td>\n",
       "      <td>1.0</td>\n",
       "      <td>1.0</td>\n",
       "      <td>NaN</td>\n",
       "      <td>1.0</td>\n",
       "      <td>0.0</td>\n",
       "    </tr>\n",
       "    <tr>\n",
       "      <th>1</th>\n",
       "      <td>23286</td>\n",
       "      <td>NaN</td>\n",
       "      <td>54.0</td>\n",
       "      <td>4.0</td>\n",
       "      <td>50.0</td>\n",
       "      <td>4.0</td>\n",
       "      <td>1.0</td>\n",
       "      <td>NaN</td>\n",
       "      <td>3.00</td>\n",
       "      <td>NaN</td>\n",
       "      <td>...</td>\n",
       "      <td>3к2</td>\n",
       "      <td>2017.0</td>\n",
       "      <td>2.0</td>\n",
       "      <td>15.0</td>\n",
       "      <td>0.0</td>\n",
       "      <td>1.0</td>\n",
       "      <td>1.0</td>\n",
       "      <td>0.0</td>\n",
       "      <td>0.0</td>\n",
       "      <td>0.0</td>\n",
       "    </tr>\n",
       "    <tr>\n",
       "      <th>2</th>\n",
       "      <td>23287</td>\n",
       "      <td>3.0</td>\n",
       "      <td>39.4</td>\n",
       "      <td>19.6</td>\n",
       "      <td>11.2</td>\n",
       "      <td>10.0</td>\n",
       "      <td>1.0</td>\n",
       "      <td>NaN</td>\n",
       "      <td>2.65</td>\n",
       "      <td>1.0</td>\n",
       "      <td>...</td>\n",
       "      <td>27</td>\n",
       "      <td>2021.0</td>\n",
       "      <td>3.0</td>\n",
       "      <td>9.0</td>\n",
       "      <td>0.0</td>\n",
       "      <td>1.0</td>\n",
       "      <td>1.0</td>\n",
       "      <td>1.0</td>\n",
       "      <td>NaN</td>\n",
       "      <td>NaN</td>\n",
       "    </tr>\n",
       "    <tr>\n",
       "      <th>3</th>\n",
       "      <td>23288</td>\n",
       "      <td>NaN</td>\n",
       "      <td>60.9</td>\n",
       "      <td>NaN</td>\n",
       "      <td>NaN</td>\n",
       "      <td>5.0</td>\n",
       "      <td>2.0</td>\n",
       "      <td>1.0</td>\n",
       "      <td>NaN</td>\n",
       "      <td>1.0</td>\n",
       "      <td>...</td>\n",
       "      <td>23</td>\n",
       "      <td>2014.0</td>\n",
       "      <td>2.0</td>\n",
       "      <td>17.0</td>\n",
       "      <td>1.0</td>\n",
       "      <td>1.0</td>\n",
       "      <td>0.0</td>\n",
       "      <td>NaN</td>\n",
       "      <td>1.0</td>\n",
       "      <td>3.0</td>\n",
       "    </tr>\n",
       "    <tr>\n",
       "      <th>4</th>\n",
       "      <td>23289</td>\n",
       "      <td>NaN</td>\n",
       "      <td>34.0</td>\n",
       "      <td>9.0</td>\n",
       "      <td>17.0</td>\n",
       "      <td>14.0</td>\n",
       "      <td>1.0</td>\n",
       "      <td>NaN</td>\n",
       "      <td>2.75</td>\n",
       "      <td>1.0</td>\n",
       "      <td>...</td>\n",
       "      <td>13к1</td>\n",
       "      <td>2016.0</td>\n",
       "      <td>2.0</td>\n",
       "      <td>17.0</td>\n",
       "      <td>0.0</td>\n",
       "      <td>1.0</td>\n",
       "      <td>1.0</td>\n",
       "      <td>NaN</td>\n",
       "      <td>1.0</td>\n",
       "      <td>0.0</td>\n",
       "    </tr>\n",
       "  </tbody>\n",
       "</table>\n",
       "<p>5 rows × 33 columns</p>\n",
       "</div>"
      ],
      "text/plain": [
       "      id  seller  area_total  area_kitchen  area_living  floor  rooms  layout  \\\n",
       "0  23285     NaN        71.4           NaN          NaN    2.0    1.0     NaN   \n",
       "1  23286     NaN        54.0           4.0         50.0    4.0    1.0     NaN   \n",
       "2  23287     3.0        39.4          19.6         11.2   10.0    1.0     NaN   \n",
       "3  23288     NaN        60.9           NaN          NaN    5.0    2.0     1.0   \n",
       "4  23289     NaN        34.0           9.0         17.0   14.0    1.0     NaN   \n",
       "\n",
       "   ceiling  bathrooms_shared  ...  address  constructed  material  stories  \\\n",
       "0      NaN               NaN  ...      6к3       2017.0       2.0     20.0   \n",
       "1     3.00               NaN  ...      3к2       2017.0       2.0     15.0   \n",
       "2     2.65               1.0  ...       27       2021.0       3.0      9.0   \n",
       "3      NaN               1.0  ...       23       2014.0       2.0     17.0   \n",
       "4     2.75               1.0  ...     13к1       2016.0       2.0     17.0   \n",
       "\n",
       "   elevator_without  elevator_passenger  elevator_service  parking  \\\n",
       "0               1.0                 1.0               1.0      NaN   \n",
       "1               0.0                 1.0               1.0      0.0   \n",
       "2               0.0                 1.0               1.0      1.0   \n",
       "3               1.0                 1.0               0.0      NaN   \n",
       "4               0.0                 1.0               1.0      NaN   \n",
       "\n",
       "   garbage_chute  heating  \n",
       "0            1.0      0.0  \n",
       "1            0.0      0.0  \n",
       "2            NaN      NaN  \n",
       "3            1.0      3.0  \n",
       "4            1.0      0.0  \n",
       "\n",
       "[5 rows x 33 columns]"
      ]
     },
     "execution_count": 44,
     "metadata": {},
     "output_type": "execute_result"
    }
   ],
   "source": [
    "apartments_test = pd.read_csv('data/apartments_test.csv')\n",
    "buildings_test = pd.read_csv('data/buildings_test.csv')\n",
    "data_test = pd.merge(apartments_test, buildings_test.set_index('id'), how='left', left_on='building_id', right_index=True)\n",
    "data_test.head()"
   ]
  },
  {
   "cell_type": "markdown",
   "id": "3094cd1f",
   "metadata": {},
   "source": [
    "# Missing data management\n",
    "You can see on the cell below the distribution of missing data in the train and test set"
   ]
  },
  {
   "cell_type": "code",
   "execution_count": 45,
   "id": "8cad0f23-63ae-4f48-b91b-adbe1a2e40a4",
   "metadata": {},
   "outputs": [
    {
     "name": "stdout",
     "output_type": "stream",
     "text": [
      "Number of missing price entries in train data: 0\n",
      "Training set features with any missing value: 23/34\n",
      "Testing set features with any missing value: 25/33\n"
     ]
    },
    {
     "data": {
      "image/png": "[encoded data removed]",
      "text/plain": [
       "<Figure size 1600x400 with 2 Axes>"
      ]
     },
     "metadata": {},
     "output_type": "display_data"
    }
   ],
   "source": [
    "fig, (ax1, ax2) = plt.subplots(figsize=(16, 4), ncols=2, dpi=100)\n",
    "print(f'Number of missing price entries in train data: {data_train.price.isna().sum()}')\n",
    "print(f'Training set features with any missing value: {data_train.isna().any().sum()}/{data_train.shape[1]}')\n",
    "print(f'Testing set features with any missing value: {data_test.isna().any().sum()}/{data_test.shape[1]}')\n",
    "data_train.isna().mean().plot.bar(ax=ax1, title='Fraction of NaN values in the training set')\n",
    "data_test.isna().mean().plot.bar(ax=ax2, title='Fraction of NaN values in the testing set');"
   ]
  },
  {
   "cell_type": "code",
   "execution_count": 46,
   "id": "324b077f-1720-4a06-be26-b838eb8866ff",
   "metadata": {},
   "outputs": [
    {
     "data": {
      "text/plain": [
       "id                    0.000000\n",
       "street                0.000000\n",
       "price                 0.000000\n",
       "area_total            0.000000\n",
       "building_id           0.000000\n",
       "longitude             0.000000\n",
       "floor                 0.000000\n",
       "rooms                 0.000000\n",
       "stories               0.000000\n",
       "address               0.000000\n",
       "latitude              0.000000\n",
       "phones                0.003436\n",
       "district              0.005583\n",
       "new                   0.011338\n",
       "elevator_passenger    0.015332\n",
       "elevator_without      0.015332\n",
       "elevator_service      0.015332\n",
       "constructed           0.034101\n",
       "bathrooms_private     0.166294\n",
       "bathrooms_shared      0.166294\n",
       "area_living           0.166724\n",
       "material              0.170589\n",
       "area_kitchen          0.202757\n",
       "parking               0.291531\n",
       "windows_street        0.346676\n",
       "windows_court         0.346676\n",
       "heating               0.350498\n",
       "garbage_chute         0.378414\n",
       "seller                0.379230\n",
       "condition             0.421319\n",
       "loggias               0.451812\n",
       "balconies             0.451812\n",
       "ceiling               0.476422\n",
       "layout                0.757688\n",
       "dtype: float64"
      ]
     },
     "execution_count": 46,
     "metadata": {},
     "output_type": "execute_result"
    }
   ],
   "source": [
    "(data_train.isnull().sum()/23284).sort_values()"
   ]
  },
  {
   "cell_type": "markdown",
   "id": "bb8d31d2-3f66-4b42-a936-b03fa649fbaa",
   "metadata": {},
   "source": [
    "### Removing features with too much missing data"
   ]
  },
  {
   "cell_type": "code",
   "execution_count": 47,
   "id": "e09c3ffd-995f-4ffe-a406-a531ed1f472f",
   "metadata": {},
   "outputs": [],
   "source": [
    "data_train = data_train.drop(['layout','balconies','loggias','condition','garbage_chute','heating','windows_court','windows_street'],axis=1)\n",
    "data_test = data_test.drop(['layout','balconies','loggias','condition','garbage_chute','heating','windows_court','windows_street'],axis=1)"
   ]
  },
  {
   "cell_type": "code",
   "execution_count": 48,
   "id": "2b525907",
   "metadata": {},
   "outputs": [],
   "source": [
    "data_train_filled = data_train.copy()\n",
    "data_test_filled = data_test.copy()\n",
    "\n",
    "pd.options.mode.chained_assignment = None"
   ]
  },
  {
   "cell_type": "markdown",
   "id": "c72143af",
   "metadata": {},
   "source": [
    "### For categorical Values \n",
    "We will fill the missing values with 'missing'"
   ]
  },
  {
   "cell_type": "code",
   "execution_count": 49,
   "id": "ce6183fd",
   "metadata": {},
   "outputs": [],
   "source": [
    "data_train_filled['phones'] = data_train_filled['phones'].fillna(0)\n",
    "data_train_filled['seller'] = data_train_filled['seller'].fillna(4)\n",
    "data_train_filled['parking'] = data_train_filled['parking'].fillna(3)\n",
    "data_train_filled['elevator_service'] = data_train_filled['elevator_service'].fillna(2)\n",
    "data_train_filled['elevator_passenger'] = data_train_filled['elevator_passenger'].fillna(2)\n",
    "data_train_filled['elevator_without'] = data_train_filled['elevator_without'].fillna(2)\n",
    "\n",
    "data_test_filled['phones'] = data_test_filled['phones'].fillna(0)\n",
    "data_test_filled['seller'] = data_test_filled['seller'].fillna(4)\n",
    "data_test_filled['parking'] = data_test_filled['parking'].fillna(3)\n",
    "data_test_filled['elevator_service'] = data_test_filled['elevator_service'].fillna(2)\n",
    "data_test_filled['elevator_passenger'] = data_test_filled['elevator_passenger'].fillna(2)\n",
    "data_test_filled['elevator_without'] = data_test_filled['elevator_without'].fillna(2)"
   ]
  },
  {
   "cell_type": "markdown",
   "id": "e9d17367",
   "metadata": {},
   "source": [
    "### There is 2 missing Latitude & Longitude in the Test set :\n",
    "We will fill them using the 'street' feature"
   ]
  },
  {
   "cell_type": "code",
   "execution_count": 50,
   "id": "3814ead9",
   "metadata": {},
   "outputs": [],
   "source": [
    "street=[]\n",
    "for i in range(len(data_test_filled)):\n",
    "    if(data_test_filled.isna()['longitude'][i]):\n",
    "        street.append(data_test['street'][i])\n",
    "long=0\n",
    "latitude=0\n",
    "total=0\n",
    "for i in range(len(data_test_filled)):\n",
    "    for j in range(len(street)):\n",
    "        if(data_test_filled['street'][i] == street[j]):\n",
    "            if(data_test_filled.isna()['longitude'][i] == False):\n",
    "                long=+data_test_filled['longitude'][i]\n",
    "                latitude=+ data_test_filled['latitude'][i]\n",
    "                total=+1\n",
    "long=long/total\n",
    "latitude= latitude/total\n",
    "\n",
    "for i in range(len(data_test_filled)):                \n",
    "    if(long!=0):\n",
    "        if(data_test_filled.isna()['longitude'][i]):\n",
    "            data_test_filled['longitude'][i] = long\n",
    "            data_test_filled['latitude'][i] = latitude"
   ]
  },
  {
   "cell_type": "markdown",
   "id": "e6c07670-5f01-4ef7-ba9b-c965bf79f621",
   "metadata": {},
   "source": [
    "# Using Random Forest for other features :"
   ]
  },
  {
   "cell_type": "markdown",
   "id": "fd76e052",
   "metadata": {},
   "source": [
    "### Area Living\n",
    "#### Fixing Wrong Values :\n",
    "Some values are under 1 meter, or even equal to zero.\n",
    "We need to change those value because later we will apply the log10 transformation to area_living."
   ]
  },
  {
   "cell_type": "code",
   "execution_count": 51,
   "id": "c4a9e0ea",
   "metadata": {},
   "outputs": [],
   "source": [
    "for index in range(len(data_train_filled['id'])):\n",
    "    if data_train_filled['area_living'][index] < 1:\n",
    "        data_train_filled['area_living'][index] = np.nan\n",
    "\n",
    "for index in range(len(data_test_filled['area_living'])):\n",
    "    if data_test_filled['area_living'][index] < 1:\n",
    "        data_test_filled['area_living'][index] = np.nan"
   ]
  },
  {
   "cell_type": "code",
   "execution_count": 52,
   "id": "a8a4d617",
   "metadata": {},
   "outputs": [],
   "source": [
    "sub_data_train = data_train_filled[pd.isnull(data_train_filled['area_living']) == False]\n",
    "sub_data_train_miss = data_train_filled[pd.isnull(data_train_filled['area_living'])]\n",
    "sub_data_test = data_test_filled[pd.isnull(data_test_filled['area_living']) == False]\n",
    "sub_data_test_miss = data_test_filled[pd.isnull(data_test_filled['area_living'])]\n",
    "\n",
    "rfrmodel = RandomForestRegressor(n_estimators = 800, max_features = 'sqrt', max_depth = 40, min_samples_split = 5, min_samples_leaf = 1, bootstrap = True)\n",
    "\n",
    "features = ['latitude','longitude','area_total']"
   ]
  },
  {
   "cell_type": "code",
   "execution_count": 53,
   "id": "760d3ae7",
   "metadata": {},
   "outputs": [],
   "source": [
    "# Creating the model\n",
    "rfrmodel.fit(sub_data_train[features],sub_data_train['area_living'])\n",
    "\n",
    "# Generating values\n",
    "generated_values = rfrmodel.predict(X = sub_data_train_miss[features])\n",
    "sub_data_train_miss['area_living'] = generated_values.copy()\n",
    "generated_values = rfrmodel.predict(X = sub_data_test_miss[features])\n",
    "sub_data_test_miss['area_living'] = generated_values.copy()\n",
    "\n",
    "data_train_filled = sub_data_train.append(sub_data_train_miss)\n",
    "data_train_filled.sort_values(by=['id'],inplace=True)\n",
    "data_test_filled = sub_data_test.append(sub_data_test_miss)\n",
    "data_test_filled.sort_values(by=['id'],inplace=True)"
   ]
  },
  {
   "cell_type": "markdown",
   "id": "b5cf1cd3",
   "metadata": {},
   "source": [
    "### Area Kitchen"
   ]
  },
  {
   "cell_type": "code",
   "execution_count": 54,
   "id": "55aaa32d",
   "metadata": {},
   "outputs": [],
   "source": [
    "sub_data_train = data_train_filled[pd.isnull(data_train_filled['area_kitchen']) == False]\n",
    "sub_data_train_miss = data_train_filled[pd.isnull(data_train_filled['area_kitchen'])]\n",
    "sub_data_test = data_test_filled[pd.isnull(data_test_filled['area_kitchen']) == False]\n",
    "sub_data_test_miss = data_test_filled[pd.isnull(data_test_filled['area_kitchen'])]\n",
    "\n",
    "rfrmodel = RandomForestRegressor(n_estimators = 1000, max_features = 'sqrt', max_depth = 20, min_samples_split = 2, min_samples_leaf = 1, bootstrap = True)\n",
    "\n",
    "features = ['latitude','longitude','area_total']\n",
    "\n",
    "# Creating the model\n",
    "rfrmodel.fit(sub_data_train[features],sub_data_train['area_kitchen'])\n",
    "\n",
    "# Generating values\n",
    "generated_values = rfrmodel.predict(X = sub_data_train_miss[features])\n",
    "sub_data_train_miss['area_kitchen'] = generated_values.copy()\n",
    "generated_values = rfrmodel.predict(X = sub_data_test_miss[features])\n",
    "sub_data_test_miss['area_kitchen'] = generated_values.copy()\n",
    "\n",
    "data_train_filled = sub_data_train.append(sub_data_train_miss)\n",
    "data_train_filled.sort_values(by=['id'],inplace=True)\n",
    "data_test_filled = sub_data_test.append(sub_data_test_miss)\n",
    "data_test_filled.sort_values(by=['id'],inplace=True)"
   ]
  },
  {
   "cell_type": "markdown",
   "id": "911c91a0",
   "metadata": {},
   "source": [
    "### District"
   ]
  },
  {
   "cell_type": "code",
   "execution_count": 55,
   "id": "73b7d004",
   "metadata": {},
   "outputs": [],
   "source": [
    "sub_data_train = data_train_filled[pd.isnull(data_train_filled['district']) == False]\n",
    "sub_data_train_miss = data_train_filled[pd.isnull(data_train_filled['district'])]\n",
    "sub_data_test = data_test_filled[pd.isnull(data_test_filled['district']) == False]\n",
    "sub_data_test_miss = data_test_filled[pd.isnull(data_test_filled['district'])]\n",
    "\n",
    "features = ['latitude','longitude']\n",
    "\n",
    "# Creating the model\n",
    "rfcmodel.fit(sub_data_train[features],sub_data_train['district'])\n",
    "\n",
    "# Generating values\n",
    "generated_values = rfcmodel.predict(X = sub_data_train_miss[features])\n",
    "sub_data_train_miss['district'] = generated_values.copy()\n",
    "generated_values = rfcmodel.predict(X = sub_data_test_miss[features])\n",
    "sub_data_test_miss['district'] = generated_values.copy()\n",
    "\n",
    "data_train_filled = sub_data_train.append(sub_data_train_miss)\n",
    "data_train_filled.sort_values(by=['id'],inplace=True)\n",
    "data_test_filled = sub_data_test.append(sub_data_test_miss)\n",
    "data_test_filled.sort_values(by=['id'],inplace=True)"
   ]
  },
  {
   "cell_type": "markdown",
   "id": "2ccc3005",
   "metadata": {},
   "source": [
    "### Material"
   ]
  },
  {
   "cell_type": "code",
   "execution_count": 56,
   "id": "f36cf524",
   "metadata": {},
   "outputs": [],
   "source": [
    "sub_data_train = data_train_filled[pd.isnull(data_train_filled['material']) == False]\n",
    "sub_data_train_miss = data_train_filled[pd.isnull(data_train_filled['material'])]\n",
    "sub_data_test = data_test_filled[pd.isnull(data_test_filled['material']) == False]\n",
    "sub_data_test_miss = data_test_filled[pd.isnull(data_test_filled['material'])]\n",
    "\n",
    "rfcmodel = RandomForestClassifier(n_estimators = 1400, max_features = 'sqrt', max_depth = 80, min_samples_split = 5, min_samples_leaf = 1, bootstrap = False)\n",
    "\n",
    "features = ['latitude','longitude','stories']\n",
    "\n",
    "# Creating the model\n",
    "rfcmodel.fit(sub_data_train[features],sub_data_train['material'])\n",
    "\n",
    "# Generating values\n",
    "generated_values = rfcmodel.predict(X = sub_data_train_miss[features])\n",
    "sub_data_train_miss['material'] = generated_values.copy()\n",
    "generated_values = rfcmodel.predict(X = sub_data_test_miss[features])\n",
    "sub_data_test_miss['material'] = generated_values.copy()\n",
    "\n",
    "data_train_filled = sub_data_train.append(sub_data_train_miss)\n",
    "data_train_filled.sort_values(by=['id'],inplace=True)\n",
    "data_test_filled = sub_data_test.append(sub_data_test_miss)\n",
    "data_test_filled.sort_values(by=['id'],inplace=True)"
   ]
  },
  {
   "cell_type": "markdown",
   "id": "9f8b905b",
   "metadata": {},
   "source": [
    "### Constructed\n",
    "We can already fill nan values of 'constructed' if they are also 'new'"
   ]
  },
  {
   "cell_type": "code",
   "execution_count": 57,
   "id": "45658c19",
   "metadata": {},
   "outputs": [],
   "source": [
    "constructed_train= data_train.copy()[['new','constructed']]\n",
    "max_value = max(constructed_train['constructed'])\n",
    "\n",
    "for i in range(len(constructed_train)):\n",
    "    if(np.isnan(constructed_train['constructed'][i]) == True):\n",
    "        if np.isnan(constructed_train['new'][i]) != True :\n",
    "            if constructed_train['new'][i] == 1:\n",
    "                constructed_train['constructed'][i] = np.random.randint(low=2019,high=max_value,dtype=int)\n",
    "\n",
    "data_train_filled['constructed'] = constructed_train['constructed'].copy()"
   ]
  },
  {
   "cell_type": "code",
   "execution_count": 58,
   "id": "435b7176",
   "metadata": {},
   "outputs": [],
   "source": [
    "constructed_test= data_train.copy()[['new','constructed']]\n",
    "max_value = max(constructed_test['constructed'])\n",
    "\n",
    "for i in range(len(constructed_test)):\n",
    "    if(np.isnan(constructed_test['constructed'][i]) == True):\n",
    "        if np.isnan(constructed_test['new'][i]) != True :\n",
    "            if constructed_test['new'][i] == 1:\n",
    "                constructed_test['constructed'][i] = np.random.randint(low=2019,high=max_value,dtype=int)\n",
    "\n",
    "data_test_filled['constructed'] = constructed_test['constructed'].copy()"
   ]
  },
  {
   "cell_type": "code",
   "execution_count": 59,
   "id": "9686c98f",
   "metadata": {},
   "outputs": [],
   "source": [
    "sub_data_train = data_train_filled[pd.isnull(data_train_filled['constructed']) == False]\n",
    "sub_data_train_miss = data_train_filled[pd.isnull(data_train_filled['constructed'])]\n",
    "sub_data_test = data_test_filled[pd.isnull(data_test_filled['constructed']) == False]\n",
    "sub_data_test_miss = data_test_filled[pd.isnull(data_test_filled['constructed'])]\n",
    "\n",
    "rfcmodel = RandomForestClassifier()\n",
    "\n",
    "features = ['latitude','longitude']\n",
    "\n",
    "# Creating the model\n",
    "rfcmodel.fit(sub_data_train[features],sub_data_train['constructed'])\n",
    "\n",
    "# Generating values\n",
    "generated_values = rfcmodel.predict(X = sub_data_train_miss[features])\n",
    "sub_data_train_miss['constructed'] = generated_values.copy()\n",
    "generated_values = rfcmodel.predict(X = sub_data_test_miss[features])\n",
    "sub_data_test_miss['constructed'] = generated_values.copy()\n",
    "\n",
    "data_train_filled = sub_data_train.append(sub_data_train_miss)\n",
    "data_train_filled.sort_values(by=['id'],inplace=True)\n",
    "data_test_filled = sub_data_test.append(sub_data_test_miss)\n",
    "data_test_filled.sort_values(by=['id'],inplace=True)"
   ]
  },
  {
   "cell_type": "markdown",
   "id": "58900c31",
   "metadata": {},
   "source": [
    "### New"
   ]
  },
  {
   "cell_type": "code",
   "execution_count": 60,
   "id": "5c02a3e5",
   "metadata": {},
   "outputs": [],
   "source": [
    "sub_data_train = data_train_filled[pd.isnull(data_train_filled['new']) == False]\n",
    "sub_data_train_miss = data_train_filled[pd.isnull(data_train_filled['new'])]\n",
    "sub_data_test = data_test_filled[pd.isnull(data_test_filled['new']) == False]\n",
    "sub_data_test_miss = data_test_filled[pd.isnull(data_test_filled['new'])]\n",
    "\n",
    "features = ['constructed']\n",
    "\n",
    "# Creating the model\n",
    "rfcmodel.fit(sub_data_train[features],sub_data_train['new'])\n",
    "\n",
    "# Generating values\n",
    "generated_values = rfcmodel.predict(X = sub_data_train_miss[features])\n",
    "sub_data_train_miss['new'] = generated_values.copy()\n",
    "generated_values = rfcmodel.predict(X = sub_data_test_miss[features])\n",
    "sub_data_test_miss['new'] = generated_values.copy()\n",
    "\n",
    "data_train_filled = sub_data_train.append(sub_data_train_miss)\n",
    "data_train_filled.sort_values(by=['id'],inplace=True)\n",
    "data_test_filled = sub_data_test.append(sub_data_test_miss)\n",
    "data_test_filled.sort_values(by=['id'],inplace=True)"
   ]
  },
  {
   "cell_type": "markdown",
   "id": "971bfe6e-410b-4e6c-8413-f83e1a47945a",
   "metadata": {},
   "source": [
    "### Ceiling\n",
    "Some ceiling values are wrong (like 250 meters), we assume that this is due to unit errors (centimeters instead of meters)"
   ]
  },
  {
   "cell_type": "code",
   "execution_count": 61,
   "id": "bc744daf-0654-4304-bf8f-791770be5d56",
   "metadata": {},
   "outputs": [],
   "source": [
    "# Changing wrong values \n",
    "for index in range(len(data_train_filled['ceiling'])):\n",
    "    if data_train_filled['ceiling'][index] > 100:\n",
    "        tmp=data_train_filled.copy()['ceiling'][index]/100\n",
    "        data_train_filled['ceiling'][index] = tmp\n",
    "    if data_train_filled['ceiling'][index] > 15:\n",
    "        tmp=data_train_filled.copy()['ceiling'][index]/10\n",
    "        data_train_filled['ceiling'][index] = tmp\n",
    "    if data_train_filled['ceiling'][index] < 1:\n",
    "        tmp=np.nan\n",
    "        data_train_filled['ceiling'][index] = tmp"
   ]
  },
  {
   "cell_type": "code",
   "execution_count": 62,
   "id": "6e8af885-2d54-4ca2-a243-fb4005f7fe79",
   "metadata": {},
   "outputs": [],
   "source": [
    "# Changing wrong values \n",
    "for index in range(len(data_test_filled['ceiling'])):\n",
    "    if data_test_filled['ceiling'][index] > 100:\n",
    "        tmp=data_test_filled.copy()['ceiling'][index]/100\n",
    "        data_test_filled['ceiling'][index] = tmp\n",
    "    if data_test_filled['ceiling'][index] > 15:\n",
    "        tmp=data_test_filled.copy()['ceiling'][index]/10\n",
    "        data_test_filled['ceiling'][index] = tmp\n",
    "    if data_test_filled['ceiling'][index] < 1:\n",
    "        tmp=np.nan\n",
    "        data_test_filled['ceiling'][index] = tmp"
   ]
  },
  {
   "cell_type": "code",
   "execution_count": 63,
   "id": "9f54822c-6792-4585-9cde-b69b6d98ee98",
   "metadata": {},
   "outputs": [],
   "source": [
    "data_train_filled['ceiling'] = np.log10(data_train_filled['ceiling'])\n",
    "data_test_filled['ceiling'] = np.log10(data_test_filled['ceiling'])"
   ]
  },
  {
   "cell_type": "markdown",
   "id": "8ad769e2-197c-40ed-b61c-90055f5e9b81",
   "metadata": {},
   "source": [
    "##### Filling missing values"
   ]
  },
  {
   "cell_type": "code",
   "execution_count": 64,
   "id": "2866eef6-6114-4bf0-95fb-0faa776e99ba",
   "metadata": {},
   "outputs": [],
   "source": [
    "sub_data_train = data_train_filled[pd.isnull(data_train_filled['ceiling']) == False]\n",
    "sub_data_train_miss = data_train_filled[pd.isnull(data_train_filled['ceiling'])]\n",
    "sub_data_test = data_test_filled[pd.isnull(data_test_filled['ceiling']) == False]\n",
    "sub_data_test_miss = data_test_filled[pd.isnull(data_test_filled['ceiling'])]\n",
    "\n",
    "rfrmodel = RandomForestRegressor()\n",
    "\n",
    "features = ['latitude','longitude','constructed']\n",
    "\n",
    "# Creating the model\n",
    "rfrmodel.fit(sub_data_train[features],sub_data_train['ceiling'])\n",
    "\n",
    "# Generating values\n",
    "generated_values = rfrmodel.predict(X = sub_data_train_miss[features])\n",
    "sub_data_train_miss['ceiling'] = generated_values.copy()\n",
    "generated_values = rfrmodel.predict(X = sub_data_test_miss[features])\n",
    "sub_data_test_miss['ceiling'] = generated_values.copy()\n",
    "\n",
    "data_train_filled = sub_data_train.append(sub_data_train_miss)\n",
    "data_train_filled.sort_values(by=['id'],inplace=True)\n",
    "data_test_filled = sub_data_test.append(sub_data_test_miss)\n",
    "data_test_filled.sort_values(by=['id'],inplace=True)"
   ]
  },
  {
   "cell_type": "markdown",
   "id": "c483102f",
   "metadata": {},
   "source": [
    "### Bathrooms Shared"
   ]
  },
  {
   "cell_type": "code",
   "execution_count": 65,
   "id": "0b3fd590",
   "metadata": {},
   "outputs": [],
   "source": [
    "sub_data_train = data_train_filled[pd.isnull(data_train_filled['bathrooms_shared']) == False]\n",
    "sub_data_train_miss = data_train_filled[pd.isnull(data_train_filled['bathrooms_shared'])]\n",
    "sub_data_test = data_test_filled[pd.isnull(data_test_filled['bathrooms_shared']) == False]\n",
    "sub_data_test_miss = data_test_filled[pd.isnull(data_test_filled['bathrooms_shared'])]\n",
    "\n",
    "features = ['latitude','longitude','area_total','rooms']\n",
    "\n",
    "# Creating the model\n",
    "rfcmodel.fit(sub_data_train[features],sub_data_train['bathrooms_shared'])\n",
    "\n",
    "# Generating values\n",
    "generated_values = rfcmodel.predict(X = sub_data_train_miss[features])\n",
    "sub_data_train_miss['bathrooms_shared'] = generated_values.copy()\n",
    "generated_values = rfcmodel.predict(X = sub_data_test_miss[features])\n",
    "sub_data_test_miss['bathrooms_shared'] = generated_values.copy()\n",
    "\n",
    "data_train_filled = sub_data_train.append(sub_data_train_miss)\n",
    "data_train_filled.sort_values(by=['id'],inplace=True)\n",
    "data_test_filled = sub_data_test.append(sub_data_test_miss)\n",
    "data_test_filled.sort_values(by=['id'],inplace=True)"
   ]
  },
  {
   "cell_type": "markdown",
   "id": "872af457",
   "metadata": {},
   "source": [
    "### Bathrooms Private\n"
   ]
  },
  {
   "cell_type": "code",
   "execution_count": 66,
   "id": "6a208db4",
   "metadata": {},
   "outputs": [],
   "source": [
    "sub_data_train = data_train_filled[pd.isnull(data_train_filled['bathrooms_private']) == False]\n",
    "sub_data_train_miss = data_train_filled[pd.isnull(data_train_filled['bathrooms_private'])]\n",
    "sub_data_test = data_test_filled[pd.isnull(data_test_filled['bathrooms_private']) == False]\n",
    "sub_data_test_miss = data_test_filled[pd.isnull(data_test_filled['bathrooms_private'])]\n",
    "\n",
    "features = ['latitude','longitude','area_total','rooms']\n",
    "\n",
    "# Creating the model\n",
    "rfcmodel.fit(sub_data_train[features],sub_data_train['bathrooms_private'])\n",
    "\n",
    "# Generating values\n",
    "generated_values = rfcmodel.predict(X = sub_data_train_miss[features])\n",
    "sub_data_train_miss['bathrooms_private'] = generated_values.copy()\n",
    "generated_values = rfcmodel.predict(X = sub_data_test_miss[features])\n",
    "sub_data_test_miss['bathrooms_private'] = generated_values.copy()\n",
    "\n",
    "data_train_filled = sub_data_train.append(sub_data_train_miss)\n",
    "data_train_filled.sort_values(by=['id'],inplace=True)\n",
    "data_test_filled = sub_data_test.append(sub_data_test_miss)\n",
    "data_test_filled.sort_values(by=['id'],inplace=True)"
   ]
  },
  {
   "cell_type": "markdown",
   "id": "20cf2a7f",
   "metadata": {},
   "source": [
    "# Applying the changes to datasets"
   ]
  },
  {
   "cell_type": "code",
   "execution_count": 67,
   "id": "ee5fd60c",
   "metadata": {},
   "outputs": [],
   "source": [
    "data_train = data_train_filled.copy()\n",
    "data_test = data_test_filled.copy()\n",
    "\n",
    "data_train_base = data_train.copy()\n",
    "data_train_base['area_total'] = 10**data_train_base['area_total']\n",
    "data_train_base['area_kitchen'] = 10**data_train_base['area_kitchen']\n",
    "data_train_base['area_living'] = 10**data_train_base['area_living']\n",
    "data_train_base['ceiling'] = 10**data_train_base['ceiling']\n",
    "\n",
    "data_test_base = data_test.copy()\n",
    "data_test_base['area_total'] = 10**data_test_base['area_total']\n",
    "data_test_base['area_kitchen'] = 10**data_test_base['area_kitchen']\n",
    "data_test_base['area_living'] = 10**data_test_base['area_living']\n",
    "data_test_base['ceiling'] = 10**data_test_base['ceiling']"
   ]
  },
  {
   "cell_type": "markdown",
   "id": "c2a4964d-04d6-4a25-8033-5ea13dfd2829",
   "metadata": {},
   "source": [
    "#### There's no more missing values :"
   ]
  },
  {
   "cell_type": "code",
   "execution_count": 68,
   "id": "437ca7f1-6648-449b-af1e-cbcd02ace7f0",
   "metadata": {},
   "outputs": [
    {
     "name": "stdout",
     "output_type": "stream",
     "text": [
      "Number of missing price entries in train data: 0\n",
      "Training set features with any missing value: 0/26\n",
      "Testing set features with any missing value: 0/25\n"
     ]
    },
    {
     "data": {
      "image/png": "[encoded data removed]",
      "text/plain": [
       "<Figure size 800x200 with 2 Axes>"
      ]
     },
     "metadata": {},
     "output_type": "display_data"
    }
   ],
   "source": [
    "fig, (ax1, ax2) = plt.subplots(figsize=(8, 2), ncols=2, dpi=100)\n",
    "print(f'Number of missing price entries in train data: {data_train.price.isna().sum()}')\n",
    "print(f'Training set features with any missing value: {data_train.isna().any().sum()}/{data_train.shape[1]}')\n",
    "print(f'Testing set features with any missing value: {data_test.isna().any().sum()}/{data_test.shape[1]}')\n",
    "data_train.isna().mean().plot.bar(ax=ax1, title='Fraction of NaN values in the training set')\n",
    "data_test.isna().mean().plot.bar(ax=ax2, title='Fraction of NaN values in the testing set');"
   ]
  },
  {
   "cell_type": "markdown",
   "id": "8a2b34ac-a024-4903-b399-474350fdd873",
   "metadata": {},
   "source": [
    "## Adding new features"
   ]
  },
  {
   "cell_type": "markdown",
   "id": "850fb7f9",
   "metadata": {},
   "source": [
    "### Bathrooms_total"
   ]
  },
  {
   "cell_type": "code",
   "execution_count": 69,
   "id": "fde24770",
   "metadata": {},
   "outputs": [],
   "source": [
    "data_train['bathrooms_total']=data_train['bathrooms_shared']+data_train['bathrooms_private']\n",
    "data_test['bathrooms_total']=data_test['bathrooms_shared']+data_test['bathrooms_private']\n"
   ]
  },
  {
   "cell_type": "markdown",
   "id": "5e46bfbc",
   "metadata": {},
   "source": [
    "### Distance to the city center:\n"
   ]
  },
  {
   "cell_type": "code",
   "execution_count": 70,
   "id": "43828d3e",
   "metadata": {},
   "outputs": [],
   "source": [
    "# Distance from the city center\n",
    "lat = data_train['latitude'].mean()\n",
    "long = data_train['longitude'].mean()\n",
    "\n",
    "data_train['center_dist'] = np.sqrt((data_train['latitude']-lat)**2 + (data_train['longitude']-long)**2)\n",
    "data_test['center_dist'] = np.sqrt((data_test['latitude']-lat)**2 + (data_test['longitude']-long)**2)"
   ]
  },
  {
   "cell_type": "markdown",
   "id": "b906259d-f9fc-49ea-b126-46e43837a425",
   "metadata": {},
   "source": [
    "# Let's create a predicition model\n",
    "We define a score evaluation model :"
   ]
  },
  {
   "cell_type": "code",
   "execution_count": 71,
   "id": "f58a5443-3b6b-4d74-a3ff-1ee3ef5d33ec",
   "metadata": {},
   "outputs": [],
   "source": [
    "def score_model():\n",
    "    print(\"RMSLE SCORE RESULTS:\")\n",
    "    print(f'Train RMSLE: {RMSLE(y_true=y_train_small, y_pred=y_train_hat) :.4f}')\n",
    "    print(f'Valid RMSLE: {RMSLE(y_true=y_test_small, y_pred=y_test_hat) :.4f}')\n",
    "    print(f'Full dataset RMSLE: {RMSLE(y_true=y_train, y_pred=y_hat_full_training) :.4f}')"
   ]
  },
  {
   "cell_type": "code",
   "execution_count": 72,
   "id": "92bc46e1-f878-4f28-94b2-20273be09cbc",
   "metadata": {},
   "outputs": [
    {
     "name": "stdout",
     "output_type": "stream",
     "text": [
      "Split dataset into 15600 training samples and 7685 validation samples\n"
     ]
    }
   ],
   "source": [
    "data_train_small, data_test_small = model_selection.train_test_split(data_train, test_size=0.33, stratify=np.log(data_train.price).round())\n",
    "print(f'Split dataset into {len(data_train_small)} training samples and {len(data_test_small)} validation samples')"
   ]
  },
  {
   "cell_type": "markdown",
   "id": "95e2f271-d4ee-4f04-b994-df16edb81636",
   "metadata": {},
   "source": [
    "We chose our features for the different models"
   ]
  },
  {
   "cell_type": "code",
   "execution_count": 73,
   "id": "d60111f1-09ab-420e-8253-ad6bbcaf6497",
   "metadata": {},
   "outputs": [],
   "source": [
    "features_xgb = ['area_total', 'latitude', 'longitude', 'area_living', 'floor', 'ceiling', 'district', 'constructed', 'material', 'stories', 'parking', 'center_dist','seller']\n",
    "features_gbr = ['area_total', 'latitude', 'longitude', 'area_kitchen', 'area_living', 'floor', 'ceiling', 'district', 'constructed', 'material', 'stories', 'parking', 'center_dist','seller']\n",
    "features_lgbm = ['seller', 'area_total', 'area_kitchen', 'area_living', 'floor', 'rooms', 'condition', 'phones','new', 'latitude', 'longitude', 'district']"
   ]
  },
  {
   "cell_type": "markdown",
   "id": "fb0bfbb9-cb99-43eb-a11b-f48ecdc29074",
   "metadata": {},
   "source": [
    "## XGBoost Model"
   ]
  },
  {
   "cell_type": "code",
   "execution_count": 74,
   "id": "c9491ba9-d425-446c-af78-26ba4a66764b",
   "metadata": {},
   "outputs": [
    {
     "name": "stdout",
     "output_type": "stream",
     "text": [
      "RMSLE SCORE RESULTS:\n",
      "Train RMSLE: 0.0058\n",
      "Valid RMSLE: 0.0080\n",
      "Full dataset RMSLE: 0.0066\n",
      "Time = 36.11461729999996\n"
     ]
    }
   ],
   "source": [
    "features = features_xgb\n",
    "\n",
    "# Creating small datasets for research and RMSLE:\n",
    "X_train_small = data_train_small[features]\n",
    "y_train_small = np.log10(data_train_small.loc[X_train_small.index].price)\n",
    "\n",
    "X_test_small = data_test_small[features]\n",
    "y_test_small = np.log10(data_test_small.loc[X_test_small.index].price)\n",
    "\n",
    "# Creating real datasets for actual predictions and submissions\n",
    "X_train = data_train[features]\n",
    "y_train = np.log10(data_train.loc[X_train.index].price)\n",
    "\n",
    "X_test = data_test[features]\n",
    "\n",
    "start = timer()\n",
    "\n",
    "# Our model parameters\n",
    "xgboost = xgb.XGBRegressor(learning_rate=0.05,n_estimators=1200,\n",
    "                            max_depth=10, min_child_weight=1.0,\n",
    "                            gamma=0, subsample=0.6,\n",
    "                            colsample_bytree=0.4,\n",
    "                            objective='reg:squaredlogerror', nthread=-1,\n",
    "                            scale_pos_weight=1, seed=27,reg_alpha=0.00006)\n",
    "\n",
    "# Fit model\n",
    "xgboost.fit(X_train_small, y_train_small)\n",
    "\n",
    "# Predict on the validation set\n",
    "y_train_hat = xgboost.predict(X_train_small)\n",
    "y_test_hat = xgboost.predict(X_test_small)\n",
    "y_hat_full_training = xgboost.predict(X_train)\n",
    "\n",
    "# Real prediction\n",
    "xgboost.fit(X_train, y_train)\n",
    "y_hat_xgb = xgboost.predict(X_test)\n",
    "\n",
    "#Check score\n",
    "score_model()\n",
    "\n",
    "end = timer()\n",
    "print('Time = ' + str(end - start))"
   ]
  },
  {
   "cell_type": "markdown",
   "id": "90c23720-91e9-46c0-968a-330e2d1e6a8f",
   "metadata": {},
   "source": [
    "## LGBMRegressor"
   ]
  },
  {
   "cell_type": "code",
   "execution_count": 75,
   "id": "469f4dc1-d7dd-4fb1-bbe7-a1bb8c32a7c5",
   "metadata": {},
   "outputs": [
    {
     "name": "stdout",
     "output_type": "stream",
     "text": [
      "RMSLE SCORE RESULTS:\n",
      "Train RMSLE: 0.0053\n",
      "Valid RMSLE: 0.0077\n",
      "Full dataset RMSLE: 0.0062\n",
      "Time = 11.649046099999964\n"
     ]
    }
   ],
   "source": [
    "from lightgbm import LGBMRegressor\n",
    "\n",
    "features = features_xgb\n",
    "\n",
    "# Creating small datasets for research and RMSLE:\n",
    "X_train_small = data_train_small[features]\n",
    "y_train_small = np.log10(data_train_small.loc[X_train_small.index].price)\n",
    "\n",
    "X_test_small = data_test_small[features]\n",
    "y_test_small = np.log10(data_test_small.loc[X_test_small.index].price)\n",
    "\n",
    "# Creating real datasets for actual predictions and submissions\n",
    "X_train = data_train[features]\n",
    "y_train = np.log10(data_train.loc[X_train.index].price)\n",
    "\n",
    "X_test = data_test[features]\n",
    "\n",
    "start = timer()\n",
    "\n",
    "# Create model\n",
    "lightgbm = LGBMRegressor(objective='regression', \n",
    "                        num_leaves=20, max_depth =7,\n",
    "                        learning_rate=0.03, \n",
    "                        n_estimators=2000,\n",
    "                        verbose=-1, metric= 'rmse',\n",
    "                         loss = 'huber')\n",
    "\n",
    "# Fit model to dataset\n",
    "lightgbm.fit(X_train_small, y_train_small)\n",
    "\n",
    "# Predict training\n",
    "y_train_hat = lightgbm.predict(X_train_small)\n",
    "y_test_hat = lightgbm.predict(X_test_small)\n",
    "y_hat_full_training = lightgbm.predict(X_train)\n",
    "\n",
    "#Real prediction\n",
    "lightgbm.fit(X_train, y_train)\n",
    "y_hat_lgbm = lightgbm.predict(X_test)\n",
    "\n",
    "\n",
    "#Check score\n",
    "score_model()\n",
    "\n",
    "end = timer()\n",
    "print('Time = ' + str(end - start))"
   ]
  },
  {
   "cell_type": "markdown",
   "id": "126beddb-0ec7-4724-8bf0-0ab4fcf36120",
   "metadata": {},
   "source": [
    "## Catboost"
   ]
  },
  {
   "cell_type": "code",
   "execution_count": 76,
   "id": "d9ab866b-15b2-4255-ac25-d9432be79852",
   "metadata": {},
   "outputs": [
    {
     "name": "stdout",
     "output_type": "stream",
     "text": [
      "RMSLE SCORE RESULTS:\n",
      "Train RMSLE: 0.0055\n",
      "Valid RMSLE: 0.0077\n",
      "Full dataset RMSLE: 0.0063\n",
      "Time = 51.6102588\n"
     ]
    }
   ],
   "source": [
    "features = features_xgb\n",
    "\n",
    "# Creating small datasets for research and RMSLE:\n",
    "X_train_small = data_train_small[features]\n",
    "y_train_small = np.log10(data_train_small.loc[X_train_small.index].price)\n",
    "\n",
    "X_test_small = data_test_small[features]\n",
    "y_test_small = np.log10(data_test_small.loc[X_test_small.index].price)\n",
    "\n",
    "# Creating real datasets for actual predictions and submissions\n",
    "X_train = data_train[features]\n",
    "y_train = np.log10(data_train.loc[X_train.index].price)\n",
    "\n",
    "X_test = data_test[features]\n",
    "\n",
    "start = timer()\n",
    "\n",
    "# Create model\n",
    "catboost = CatBoostRegressor(n_estimators= 2000, learning_rate = 0.03,\n",
    "                            thread_count=-1, depth=7,\n",
    "                            silent= True, random_seed= 20,\n",
    "                            bagging_temperature= 0.2, loss_function = 'RMSE')\n",
    "\n",
    "# Fit model to dataset\n",
    "catboost.fit(X_train_small, y_train_small)\n",
    "\n",
    "# Predict training\n",
    "y_train_hat = catboost.predict(X_train_small)\n",
    "y_test_hat = catboost.predict(X_test_small)\n",
    "y_hat_full_training = catboost.predict(X_train)\n",
    "\n",
    "# Real prediction\n",
    "catboost.fit(X_train, y_train)\n",
    "y_hat_catboost = catboost.predict(X_test)\n",
    "\n",
    "#Check score\n",
    "score_model()\n",
    "\n",
    "end = timer()\n",
    "print('Time = ' + str(end - start))"
   ]
  },
  {
   "cell_type": "markdown",
   "id": "367a61c8-8f1b-498f-9213-9f7debc466f5",
   "metadata": {},
   "source": [
    "## Stacked Cross Validation"
   ]
  },
  {
   "cell_type": "code",
   "execution_count": 77,
   "id": "4e48a8b3-05f1-4f55-9952-6a71019f53a1",
   "metadata": {},
   "outputs": [],
   "source": [
    "from sklearn.base import BaseEstimator, TransformerMixin, RegressorMixin, clone\n",
    "\n",
    "class AveragingModels(BaseEstimator, RegressorMixin, TransformerMixin):\n",
    "    def __init__(self, models):\n",
    "        self.models = models\n",
    "        \n",
    "    # we define clones of the original models to fit the data in\n",
    "    def fit(self, X, y):\n",
    "        self.models_ = [clone(x) for x in self.models]\n",
    "        \n",
    "        # Train cloned base models\n",
    "        for model in self.models_:\n",
    "            model.fit(X, y)\n",
    "\n",
    "        return self\n",
    "    \n",
    "    #Now we do the predictions for cloned models and average them\n",
    "    def predict(self, X):\n",
    "        predictions = np.column_stack([\n",
    "            model.predict(X) for model in self.models_\n",
    "        ])\n",
    "        return np.mean(predictions, axis=1)"
   ]
  },
  {
   "cell_type": "code",
   "execution_count": 78,
   "id": "2c1f78d2-e093-4d60-be70-a8675aa62384",
   "metadata": {},
   "outputs": [
    {
     "data": {
      "text/plain": [
       "AveragingModels(models=(XGBRegressor(base_score=0.5, booster='gbtree',\n",
       "                                     colsample_bylevel=1, colsample_bynode=1,\n",
       "                                     colsample_bytree=0.4, gamma=0, gpu_id=-1,\n",
       "                                     importance_type='gain',\n",
       "                                     interaction_constraints='',\n",
       "                                     learning_rate=0.05, max_delta_step=0,\n",
       "                                     max_depth=10, min_child_weight=1.0,\n",
       "                                     missing=nan, monotone_constraints='()',\n",
       "                                     n_estimators=1200, n_jobs=4, nthread=-1,\n",
       "                                     num_par...\n",
       "                                     objective='reg:squaredlogerror',\n",
       "                                     random_state=27, reg_alpha=6e-05,\n",
       "                                     reg_lambda=1, scale_pos_weight=1, seed=27,\n",
       "                                     subsample=0.6, tree_method='exact',\n",
       "                                     validate_parameters=1, verbosity=None),\n",
       "                        LGBMRegressor(learning_rate=0.03, loss='huber',\n",
       "                                      max_depth=7, metric='rmse',\n",
       "                                      n_estimators=2000, num_leaves=20,\n",
       "                                      objective='regression', verbose=-1),\n",
       "                        <catboost.core.CatBoostRegressor object at 0x00000290967C0340>))"
      ]
     },
     "execution_count": 78,
     "metadata": {},
     "output_type": "execute_result"
    }
   ],
   "source": [
    "# Create model\n",
    "averaged_models = AveragingModels(models = (xgboost, lightgbm, catboost))\n",
    "\n",
    "# Fit model\n",
    "averaged_models.fit(X_train_small, y_train_small)\n"
   ]
  },
  {
   "cell_type": "code",
   "execution_count": 79,
   "id": "0312dcf9-4015-42d6-8a6f-55ccdce716cd",
   "metadata": {},
   "outputs": [
    {
     "name": "stdout",
     "output_type": "stream",
     "text": [
      "RMSLE SCORE RESULTS:\n",
      "Train RMSLE: 0.0053\n",
      "Valid RMSLE: 0.0076\n",
      "Full dataset RMSLE: 0.0061\n"
     ]
    }
   ],
   "source": [
    "# Predict\n",
    "y_train_hat = averaged_models.predict(X_train_small)\n",
    "y_test_hat = averaged_models.predict(X_test_small)\n",
    "y_hat_full_training = averaged_models.predict(X_train)\n",
    "\n",
    "# Evaluate Score\n",
    "score_model()"
   ]
  },
  {
   "cell_type": "code",
   "execution_count": 80,
   "id": "76b41582-d3d4-4d94-a894-3c719e3a50ee",
   "metadata": {},
   "outputs": [
    {
     "name": "stdout",
     "output_type": "stream",
     "text": [
      "Generated 9937 predictions\n"
     ]
    }
   ],
   "source": [
    "#Real prediction\n",
    "averaged_models.fit(X_train, y_train)\n",
    "y_hat_averaged = averaged_models.predict(X_test)\n",
    "\n",
    "# Construct submission dataframe\n",
    "submission = pd.DataFrame()\n",
    "submission['id'] = data_test.id\n",
    "submission['price_prediction'] = 10**y_hat_averaged\n",
    "\n",
    "print(f'Generated {len(submission)} predictions')\n",
    "\n",
    "# Export submission to csv with headers\n",
    "submission.to_csv('averaged_submission.csv', index=False)\n",
    "\n",
    "# Look at submitted csv\n",
    "#print('\\nLine count of submission')\n",
    "#!wc -l averaged_submission.csv\n",
    "\n",
    "#print('\\nFirst 5 rows of submission')\n",
    "#!head -n 5 averaged_submission.csv\n"
   ]
  },
  {
   "cell_type": "markdown",
   "id": "2e305206-e1f3-4c79-83b0-7f51d64dbf0f",
   "metadata": {},
   "source": [
    "#### Conclusion"
   ]
  },
  {
   "cell_type": "markdown",
   "id": "30915248-a96d-4a09-aa7a-1931771c3112",
   "metadata": {},
   "source": [
    "Stacking xgboost, LGBM and CatBoost gave us out best score on the public learderboard : 0.17405"
   ]
  }
 ],
 "metadata": {
  "kernelspec": {
   "display_name": "Python 3",
   "language": "python",
   "name": "python3"
  },
  "language_info": {
   "codemirror_mode": {
    "name": "ipython",
    "version": 3
   },
   "file_extension": ".py",
   "mimetype": "text/x-python",
   "name": "python",
   "nbconvert_exporter": "python",
   "pygments_lexer": "ipython3",
   "version": "3.8.8"
  }
 },
 "nbformat": 4,
 "nbformat_minor": 5
}
